{
  "nbformat": 4,
  "nbformat_minor": 0,
  "metadata": {
    "colab": {
      "private_outputs": true,
      "provenance": []
    },
    "kernelspec": {
      "name": "python3",
      "display_name": "Python 3"
    },
    "language_info": {
      "name": "python"
    }
  },
  "cells": [
    {
      "cell_type": "code",
      "execution_count": null,
      "metadata": {
        "id": "6gb_N0XbiGkA"
      },
      "outputs": [],
      "source": [
        "#Basic Libraries\n",
        "import pandas as pd\n",
        "import matplotlib.pyplot as plt\n",
        "import seaborn as sns\n",
        "from wordcloud import WordCloud   #\n",
        "import re\n",
        "#Sklean Libraries\n",
        "from sklearn.feature_extraction.text import TfidfVectorizer\n",
        "from sklearn.model_selection import train_test_split\n",
        "from sklearn.ensemble import RandomForestClassifier\n",
        "from sklearn.svm import SVC\n",
        "import pickle\n",
        "#Natural Language Processing Libraries\n",
        "import nltk\n",
        "nltk.download('wordnet')\n",
        "from nltk.stem import WordNetLemmatizer\n",
        "nltk.download('stopwords')\n",
        "from nltk.corpus import stopwords      #a group of words that don’t add any value to the sentence\n",
        "from sklearn.metrics import confusion_matrix\n",
        "from sklearn.metrics import accuracy_score,precision_score,recall_score,confusion_matrix,roc_curve,classification_report\n",
        "\n",
        "df_train = pd.read_csv('/content/drive/MyDrive/fakeNewsData/train.csv')\n",
        "df_train.shape\n",
        "df_train.head()\n"
      ]
    },
    {
      "cell_type": "code",
      "source": [
        "df_train = df_train.fillna('')\n",
        "df_train['merge'] = df_train['author']+' '+ df_train['title']\n"
      ],
      "metadata": {
        "id": "DWH_h8pEjNDU"
      },
      "execution_count": null,
      "outputs": []
    },
    {
      "cell_type": "code",
      "source": [
        "wnlm = WordNetLemmatizer()\n",
        "def text_preprocessor(text):\n",
        "  transformed_text = re.sub('[^a-zA-Z]',' ',str(text))        #Remove all characters which are not alphabets\n",
        "  transformed_text = transformed_text.lower()                 #Convert all alphabets to lower case to avoid adding unnecessary complexities\n",
        "  transformed_text = transformed_text.split()                 #Split the obtained sentence into words\n",
        "  transformed_text = [wnlm.lemmatize(word) for word in transformed_text if word not in set(stopwords.words('english'))]\n",
        "  transformed_text = ' '.join(transformed_text)\n",
        "  return transformed_text\n",
        "\n",
        "df_train['merge'] = df_train['merge'].apply(text_preprocessor)\n",
        "print(df_train['merge'])\n"
      ],
      "metadata": {
        "id": "ARIyhz80mHUP"
      },
      "execution_count": null,
      "outputs": []
    },
    {
      "cell_type": "code",
      "source": [
        "\n",
        "x = df_train['merge'].values\n",
        "y = df_train['label'].values\n",
        "\n",
        "tfd = TfidfVectorizer()\n",
        "tfd.fit(x)\n",
        "\n",
        "x = tfd.transform(x)\n",
        "\n"
      ],
      "metadata": {
        "id": "_OR0rHwSnzfe"
      },
      "execution_count": null,
      "outputs": []
    },
    {
      "cell_type": "code",
      "source": [
        "x_train, x_test, y_train, y_test = train_test_split(x, y, test_size = 0.1, stratify=y, random_state=2)"
      ],
      "metadata": {
        "id": "QWwrddD1qpFg"
      },
      "execution_count": null,
      "outputs": []
    },
    {
      "cell_type": "code",
      "source": [
        "SVCClf = SVC(kernel = 'linear',gamma = 'scale', shrinking = False,)\n",
        "SVCClf.fit(x_train, y_train)\n"
      ],
      "metadata": {
        "id": "vrYnZK8_s-78"
      },
      "execution_count": null,
      "outputs": []
    },
    {
      "cell_type": "code",
      "source": [
        "x_train_prediction = SVCClf.predict(x_train)\n",
        "training_data_accuracy = accuracy_score(x_train_prediction, y_train)"
      ],
      "metadata": {
        "id": "c6n_sFI4uqnH"
      },
      "execution_count": null,
      "outputs": []
    },
    {
      "cell_type": "code",
      "source": [
        "print('Accuracy score of the training data : ', training_data_accuracy)"
      ],
      "metadata": {
        "id": "yNBaO_h3u-Di"
      },
      "execution_count": null,
      "outputs": []
    },
    {
      "cell_type": "code",
      "source": [
        "x_test_prediction = SVCClf.predict(x_test)\n",
        "test_data_accuracy = accuracy_score(x_test_prediction, y_test)\n",
        "print('Testing Data accuracy : ', test_data_accuracy)"
      ],
      "metadata": {
        "id": "Bxj0rGhovDSG"
      },
      "execution_count": null,
      "outputs": []
    },
    {
      "cell_type": "code",
      "source": [
        "filename = 'newsPredictor.sav'\n",
        "pickle.dump(SVCClf, open(filename, 'wb'))"
      ],
      "metadata": {
        "id": "dgQODQ7H0Zd9"
      },
      "execution_count": null,
      "outputs": []
    },
    {
      "cell_type": "code",
      "source": [
        "loaded_model = pickle.load(open('/content/drive/MyDrive/newsPredictor.sav', 'rb'))\n",
        "result = loaded_model.score(x_test, y_test)\n",
        "print(result)"
      ],
      "metadata": {
        "id": "l_32Op3T1_G3"
      },
      "execution_count": null,
      "outputs": []
    }
  ]
}